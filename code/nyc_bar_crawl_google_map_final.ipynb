{
 "cells": [
  {
   "cell_type": "code",
   "execution_count": 1,
   "metadata": {},
   "outputs": [],
   "source": [
    "import requests\n",
    "import pandas as pd\n",
    "import numpy as np\n",
    "import googlemaps\n",
    "import pprint\n",
    "import time\n",
    "import sys\n"
   ]
  },
  {
   "cell_type": "code",
   "execution_count": 2,
   "metadata": {},
   "outputs": [],
   "source": [
    "def df_add_place_name(df_for_place_name):\n",
    "    \n",
    "    df_add_place = df_for_place_name.copy()\n",
    "    \n",
    "    df_add_place['place_name'] = df_add_place['bar_pub_name'] + \" \" + df_add_place['borough']\n",
    "    \n",
    "    return df_add_place"
   ]
  },
  {
   "cell_type": "code",
   "execution_count": 10,
   "metadata": {},
   "outputs": [],
   "source": [
    "def df_chunker(seq, size, origin):\n",
    "    \n",
    "    dest_list=[]\n",
    "    time_list = []\n",
    "    distance_list = []\n",
    "    \n",
    "    seq = seq.copy()\n",
    "\n",
    "    for pos in range(0, len(seq), size):\n",
    "        destinations = seq[pos:pos + size]['place_name']\n",
    "        result = gmaps.distance_matrix(origin, destinations, mode = 'walking', units='imperial')\n",
    "\n",
    "        for i in range(0, size):       \n",
    "            if(pos+i==len(seq)):\n",
    "                break\n",
    "\n",
    "            time_list.append(result[\"rows\"][0][\"elements\"][i][\"distance\"][\"value\"])\n",
    "            distance_list.append(result[\"rows\"][0][\"elements\"][i][\"duration\"][\"value\"])\n",
    "    \n",
    "        dest_list.append(seq[pos:pos + size]['place_name'])\n",
    "        time.sleep(2.5)\n",
    "\n",
    "    return time_list,distance_list\n"
   ]
  },
  {
   "cell_type": "code",
   "execution_count": 11,
   "metadata": {},
   "outputs": [],
   "source": [
    "def rebuild_bar_list(df,tl,dl):\n",
    "    \n",
    "    nxt_df = df.copy()\n",
    "    nxt_tl = tl.copy()\n",
    "    nxt_dl = dl.copy()\n",
    "    \n",
    "    nxt = pd.DataFrame(list(zip(nxt_df.to_list(), nxt_tl, nxt_dl)), columns=['bar_pub_name','time_to_next', 'distance_to_next'])\n",
    "    nxt.drop(nxt[nxt.distance_to_next == 0].index, inplace=True)\n",
    "    \n",
    "    return nxt\n",
    "    "
   ]
  },
  {
   "cell_type": "code",
   "execution_count": 12,
   "metadata": {},
   "outputs": [],
   "source": [
    "def print_nxt_bar(df_nxt_bar_print):\n",
    "    \n",
    "    nxt = pd.DataFrame()\n",
    "    nxt = df_nxt_bar_print.copy()\n",
    "    \n",
    "    return nxt[nxt.time_to_next == nxt.time_to_next.min()]['bar_pub_name'].item()\n"
   ]
  },
  {
   "cell_type": "code",
   "execution_count": 17,
   "metadata": {},
   "outputs": [],
   "source": [
    "def main():\n",
    "    \n",
    "    \n",
    "    df = pd.read_csv('./../data/nyc_bar_crawl_sample.csv')\n",
    "    df = df_add_place_name(df).copy()\n",
    "    \n",
    "    tl = []\n",
    "    dl = []\n",
    "    \n",
    "    df_nxt = df.copy()\n",
    "    \n",
    "    while True:\n",
    "        # get user input\n",
    "        x = input('Input current location or bar name in the format: [location/bar_name<space>borough] | c to continue | x to exit\\n')\n",
    "        \n",
    "        if(len(df_nxt)==0):\n",
    "            print(\"\\n\\nCongratulations for completing the bar crawl 🍻 🏆 🥳 \")\n",
    "            break\n",
    "        \n",
    "        if(x=='x'):\n",
    "            print(\"\\n\\n Continue the bar crawl by inputting the last visited bar the next time 👋\")\n",
    "            break\n",
    "\n",
    "        df_nxt = df_add_place_name(df_nxt).copy()\n",
    "        \n",
    "        if x=='c':\n",
    "            try:\n",
    "                print(\"Invalid input; try again\")\n",
    "                tl,dl = df_chunker(df_nxt,8,cont)\n",
    "            except:\n",
    "                continue\n",
    "        elif x=='x':\n",
    "            break\n",
    "        else:\n",
    "            try:\n",
    "                tl,dl = df_chunker(df_nxt,8,x)\n",
    "            except:\n",
    "                print(\"Invalid location; try again\")\n",
    "                continue\n",
    "\n",
    "        df_nxt = rebuild_bar_list(df_nxt['place_name'], tl, dl).copy()\n",
    "        \n",
    "        cont = print_nxt_bar(df_nxt)\n",
    "        print(\"Head to this bar next: \",cont,\"\\n\")\n",
    "        print(type(df[df.place_name==cont]))\n",
    "        \n",
    "        df_nxt = df_nxt[df_nxt.bar_pub_name!=cont].copy()\n",
    "        df_nxt = df_nxt.merge(df, left_on='bar_pub_name', right_on='place_name', how='inner').drop(columns=['bar_pub_name_x','time_to_next','distance_to_next','place_name']).rename(columns={\"bar_pub_name_y\": \"bar_pub_name\"}).reset_index(drop=True).copy()\n",
    "    "
   ]
  },
  {
   "cell_type": "code",
   "execution_count": 16,
   "metadata": {},
   "outputs": [
    {
     "name": "stdout",
     "output_type": "stream",
     "text": [
      "Input current location or bar name in the format: [location/bar_name<space>borough] | c to continue | x to exit\n",
      "xx\n",
      "Invalid location; try again\n",
      "Input current location or bar name in the format: [location/bar_name<space>borough] | c to continue | x to exit\n",
      "x\n",
      "\n",
      "\n",
      " Continue the bar crawl by inputting last visited bar next time 👋\n"
     ]
    }
   ],
   "source": [
    "if __name__ == '__main__':\n",
    "\n",
    "    #API Key Import\n",
    "    api_file = open(\"google-map-api-key.txt\", \"r\")\n",
    "    API_KEY = api_file.read()\n",
    "    api_file.close()\n",
    "\n",
    "\n",
    "    gmaps = googlemaps.Client(key=API_KEY)\n",
    "    main()"
   ]
  },
  {
   "cell_type": "code",
   "execution_count": null,
   "metadata": {},
   "outputs": [],
   "source": []
  },
  {
   "cell_type": "code",
   "execution_count": 4,
   "metadata": {},
   "outputs": [],
   "source": []
  },
  {
   "cell_type": "code",
   "execution_count": null,
   "metadata": {},
   "outputs": [],
   "source": []
  }
 ],
 "metadata": {
  "kernelspec": {
   "display_name": "Python 3",
   "language": "python",
   "name": "python3"
  },
  "language_info": {
   "codemirror_mode": {
    "name": "ipython",
    "version": 3
   },
   "file_extension": ".py",
   "mimetype": "text/x-python",
   "name": "python",
   "nbconvert_exporter": "python",
   "pygments_lexer": "ipython3",
   "version": "3.8.5"
  }
 },
 "nbformat": 4,
 "nbformat_minor": 4
}
