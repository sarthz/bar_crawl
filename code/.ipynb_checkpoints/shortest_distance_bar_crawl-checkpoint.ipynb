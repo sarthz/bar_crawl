{
 "cells": [
  {
   "cell_type": "code",
   "execution_count": 4,
   "metadata": {},
   "outputs": [],
   "source": [
    "import pandas as pd\n",
    "import time\n"
   ]
  },
  {
   "cell_type": "code",
   "execution_count": 2,
   "metadata": {},
   "outputs": [],
   "source": [
    "#Function to query BigQuery - Includes parameters for sql, projectid, query_cost, dialect\n",
    "\n",
    "def read(query,projectid,dialect=\"standard\",money=0.10):\n",
    "    maxBytes=math.ceil((money*1099511627776)/5)\n",
    "    print(\"Limiting bytes billed to: {0:0.1f} MB\".format(maxBytes/1024/1024))\n",
    "    data_frame = pd.read_gbq(query, projectid,dialect=dialect,configuration={\"query\":{\"maximumBytesBilled\":maxBytes}})\n",
    "    return data_frame\n",
    "\n"
   ]
  },
  {
   "cell_type": "code",
   "execution_count": 3,
   "metadata": {},
   "outputs": [
    {
     "ename": "NameError",
     "evalue": "name 'time' is not defined",
     "output_type": "error",
     "traceback": [
      "\u001b[0;31m---------------------------------------------------------------------------\u001b[0m",
      "\u001b[0;31mNameError\u001b[0m                                 Traceback (most recent call last)",
      "\u001b[0;32m<ipython-input-3-07bc64fb00d0>\u001b[0m in \u001b[0;36m<module>\u001b[0;34m\u001b[0m\n\u001b[0;32m----> 1\u001b[0;31m \u001b[0mstart_time\u001b[0m \u001b[0;34m=\u001b[0m \u001b[0mtime\u001b[0m\u001b[0;34m.\u001b[0m\u001b[0mtime\u001b[0m\u001b[0;34m(\u001b[0m\u001b[0;34m)\u001b[0m\u001b[0;34m\u001b[0m\u001b[0;34m\u001b[0m\u001b[0m\n\u001b[0m",
      "\u001b[0;31mNameError\u001b[0m: name 'time' is not defined"
     ]
    }
   ],
   "source": [
    "start_time = time.time()"
   ]
  },
  {
   "cell_type": "code",
   "execution_count": null,
   "metadata": {},
   "outputs": [],
   "source": [
    "projectid = 'dcamp'\n",
    "query = \"\"\"\n",
    "\n",
    "SELECT DBA AS bar_pub_name, BORO AS borough, BUILDING as building, STREET as address, ZIPCODE AS zip, PHONE as phone\n",
    "FROM `{projectid}.bar_crawl_data.nyc_bar_crawl_data` \n",
    "-- WHERE BORO IN ('Manhattan')\n",
    "WHERE DBA NOT IN ('')\n",
    "AND (\n",
    "(LOWER(DBA) LIKE '% bar %' OR LOWER(DBA) LIKE '% pub %' OR LOWER(DBA) LIKE '% beer %' OR LOWER(DBA) LIKE '% ale %') \n",
    "OR (LOWER(DBA) LIKE '% bar' OR LOWER(DBA) LIKE '% pub' OR LOWER(DBA) LIKE '% beer' OR LOWER(DBA) LIKE '% ale')\n",
    ")\n",
    "GROUP BY 1,2,3,4,5,6\n",
    "ORDER BY 2,1\n",
    "\n",
    "\"\"\"\n",
    "\n",
    "floor_data = read(query,projectid)"
   ]
  }
 ],
 "metadata": {
  "kernelspec": {
   "display_name": "Python 3",
   "language": "python",
   "name": "python3"
  },
  "language_info": {
   "codemirror_mode": {
    "name": "ipython",
    "version": 3
   },
   "file_extension": ".py",
   "mimetype": "text/x-python",
   "name": "python",
   "nbconvert_exporter": "python",
   "pygments_lexer": "ipython3",
   "version": "3.8.5"
  }
 },
 "nbformat": 4,
 "nbformat_minor": 4
}
